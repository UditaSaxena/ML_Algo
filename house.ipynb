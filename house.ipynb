{
 "cells": [
  {
   "cell_type": "markdown",
   "id": "d019d077-8f5b-4f2a-b83f-dbc900617bd0",
   "metadata": {},
   "source": [
    "# **Welcome to** ***Jupyter Noteboook***"
   ]
  },
  {
   "cell_type": "code",
   "execution_count": 1,
   "id": "9794022f-87ff-453f-856d-ec5ea19966c4",
   "metadata": {},
   "outputs": [],
   "source": [
    "import numpy as np"
   ]
  },
  {
   "cell_type": "code",
   "execution_count": 16,
   "id": "53edea87-e860-4bc6-bcb2-63d90363bb0f",
   "metadata": {},
   "outputs": [],
   "source": [
    "myarr = ([[1, 2, 3, 4], [5, 6, 7, 8], [9, 10, 11, 12]])"
   ]
  },
  {
   "cell_type": "code",
   "execution_count": 17,
   "id": "0d1bd74a-c7cf-4f0a-a26c-3aa0369a5a59",
   "metadata": {},
   "outputs": [
    {
     "data": {
      "text/plain": [
       "[[1, 2, 3, 4], [5, 6, 7, 8], [9, 10, 11, 12]]"
      ]
     },
     "execution_count": 17,
     "metadata": {},
     "output_type": "execute_result"
    }
   ],
   "source": [
    "myarr"
   ]
  },
  {
   "cell_type": "code",
   "execution_count": 19,
   "id": "46540c17-a47b-440d-ae8f-834dda504ef4",
   "metadata": {},
   "outputs": [
    {
     "name": "stdout",
     "output_type": "stream",
     "text": [
      "[1, 2, 3, 4]\n"
     ]
    }
   ],
   "source": [
    "print(myarr[0])"
   ]
  },
  {
   "cell_type": "code",
   "execution_count": null,
   "id": "49b8b23f-143f-4501-867d-22827c569bac",
   "metadata": {},
   "outputs": [],
   "source": []
  }
 ],
 "metadata": {
  "kernelspec": {
   "display_name": "Python 3 (ipykernel)",
   "language": "python",
   "name": "python3"
  },
  "language_info": {
   "codemirror_mode": {
    "name": "ipython",
    "version": 3
   },
   "file_extension": ".py",
   "mimetype": "text/x-python",
   "name": "python",
   "nbconvert_exporter": "python",
   "pygments_lexer": "ipython3",
   "version": "3.11.5"
  }
 },
 "nbformat": 4,
 "nbformat_minor": 5
}
